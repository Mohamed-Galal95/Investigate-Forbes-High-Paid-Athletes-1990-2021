{
 "cells": [
  {
   "cell_type": "markdown",
   "metadata": {},
   "source": [
    "\n",
    "# Project: Investigate a Dataset ( Forbes High Paid Athletes 1990-2021)\n",
    "\n",
    "## Table of Contents\n",
    "<ul>\n",
    "<li><a href=\"#intro\">Introduction</a></li>\n",
    "<li><a href=\"#gathering\">Data Gathering</a></li>    \n",
    "<li><a href=\"#wrangling\">Data Wrangling</a></li>\n",
    "<li><a href=\"#eda\">Exploratory Data Analysis</a></li>\n",
    "<li><a href=\"#conclusions\">Conclusions</a></li>\n",
    "</ul>"
   ]
  },
  {
   "cell_type": "markdown",
   "metadata": {},
   "source": [
    "<a id='intro'></a>\n",
    "## Introduction\n",
    "\n",
    "\n",
    "Since 1990 Forbes has tracked the highest-earning athletes in the world. For each year (except 2001 when they switched the time period for which the data was tallied), the magazine has listed between 40 or so and 100 athletes earning the most in salary and endorsements."
   ]
  },
  {
   "cell_type": "markdown",
   "metadata": {},
   "source": [
    "<a id='gathering'></a>\n",
    "## Data Gathering"
   ]
  },
  {
   "cell_type": "code",
   "execution_count": 1,
   "metadata": {},
   "outputs": [],
   "source": [
    "# import library\n",
    "import pandas as pd\n",
    "import numpy as np\n",
    "import matplotlib.pyplot as plt\n",
    "import seaborn as sns"
   ]
  },
  {
   "cell_type": "code",
   "execution_count": 2,
   "metadata": {},
   "outputs": [],
   "source": [
    "# load CSV file into Dataframe and take a overview \n",
    "df = pd.read_csv('forbesathletes.csv')"
   ]
  },
  {
   "cell_type": "markdown",
   "metadata": {},
   "source": [
    "<a id='wrangling'></a>\n",
    "## Data Wrangling\n",
    "\n",
    "\n",
    "### General Properties"
   ]
  },
  {
   "cell_type": "code",
   "execution_count": 3,
   "metadata": {},
   "outputs": [
    {
     "data": {
      "text/html": [
       "<div>\n",
       "<style scoped>\n",
       "    .dataframe tbody tr th:only-of-type {\n",
       "        vertical-align: middle;\n",
       "    }\n",
       "\n",
       "    .dataframe tbody tr th {\n",
       "        vertical-align: top;\n",
       "    }\n",
       "\n",
       "    .dataframe thead th {\n",
       "        text-align: right;\n",
       "    }\n",
       "</style>\n",
       "<table border=\"1\" class=\"dataframe\">\n",
       "  <thead>\n",
       "    <tr style=\"text-align: right;\">\n",
       "      <th></th>\n",
       "      <th>Name</th>\n",
       "      <th>Earnings</th>\n",
       "      <th>Year</th>\n",
       "      <th>Sport</th>\n",
       "    </tr>\n",
       "  </thead>\n",
       "  <tbody>\n",
       "    <tr>\n",
       "      <th>0</th>\n",
       "      <td>Conor McGregor</td>\n",
       "      <td>180.0</td>\n",
       "      <td>2021</td>\n",
       "      <td>Mixed Martial Arts</td>\n",
       "    </tr>\n",
       "    <tr>\n",
       "      <th>1</th>\n",
       "      <td>Lionel Messi</td>\n",
       "      <td>130.0</td>\n",
       "      <td>2021</td>\n",
       "      <td>Soccer</td>\n",
       "    </tr>\n",
       "    <tr>\n",
       "      <th>2</th>\n",
       "      <td>Cristiano Ronaldo</td>\n",
       "      <td>120.0</td>\n",
       "      <td>2021</td>\n",
       "      <td>Soccer</td>\n",
       "    </tr>\n",
       "    <tr>\n",
       "      <th>3</th>\n",
       "      <td>Dak Prescott</td>\n",
       "      <td>107.5</td>\n",
       "      <td>2021</td>\n",
       "      <td>Football</td>\n",
       "    </tr>\n",
       "    <tr>\n",
       "      <th>4</th>\n",
       "      <td>LeBron James</td>\n",
       "      <td>96.5</td>\n",
       "      <td>2021</td>\n",
       "      <td>Basketball</td>\n",
       "    </tr>\n",
       "  </tbody>\n",
       "</table>\n",
       "</div>"
      ],
      "text/plain": [
       "                Name  Earnings  Year               Sport\n",
       "0     Conor McGregor     180.0  2021  Mixed Martial Arts\n",
       "1       Lionel Messi     130.0  2021              Soccer\n",
       "2  Cristiano Ronaldo     120.0  2021              Soccer\n",
       "3       Dak Prescott     107.5  2021            Football\n",
       "4       LeBron James      96.5  2021          Basketball"
      ]
     },
     "execution_count": 3,
     "metadata": {},
     "output_type": "execute_result"
    }
   ],
   "source": [
    "df.head()"
   ]
  },
  {
   "cell_type": "code",
   "execution_count": 4,
   "metadata": {},
   "outputs": [
    {
     "name": "stdout",
     "output_type": "stream",
     "text": [
      "<class 'pandas.core.frame.DataFrame'>\n",
      "RangeIndex: 1659 entries, 0 to 1658\n",
      "Data columns (total 4 columns):\n",
      " #   Column    Non-Null Count  Dtype  \n",
      "---  ------    --------------  -----  \n",
      " 0   Name      1659 non-null   object \n",
      " 1   Earnings  1659 non-null   float64\n",
      " 2   Year      1659 non-null   int64  \n",
      " 3   Sport     1659 non-null   object \n",
      "dtypes: float64(1), int64(1), object(2)\n",
      "memory usage: 52.0+ KB\n"
     ]
    }
   ],
   "source": [
    "# assesing Data and do observation\n",
    "df.info()"
   ]
  },
  {
   "cell_type": "code",
   "execution_count": 5,
   "metadata": {},
   "outputs": [
    {
     "data": {
      "text/plain": [
       "Name        0\n",
       "Earnings    0\n",
       "Year        0\n",
       "Sport       0\n",
       "dtype: int64"
      ]
     },
     "execution_count": 5,
     "metadata": {},
     "output_type": "execute_result"
    }
   ],
   "source": [
    "# check if there are null values\n",
    "df.isnull().sum()"
   ]
  },
  {
   "cell_type": "markdown",
   "metadata": {},
   "source": [
    "- there are no missing values\n",
    "- there are no incorrect data type"
   ]
  },
  {
   "cell_type": "code",
   "execution_count": 6,
   "metadata": {},
   "outputs": [
    {
     "data": {
      "text/plain": [
       "array(['Mixed Martial Arts', 'Soccer', 'Football', 'Basketball', 'Tennis',\n",
       "       'Auto Racing', 'Golf', 'Boxing', 'Baseball', 'Cricket', 'Track',\n",
       "       'Basketbal', 'Racing', 'MMA', 'Cycling', 'Hockey',\n",
       "       'Football/Baseball'], dtype=object)"
      ]
     },
     "execution_count": 6,
     "metadata": {},
     "output_type": "execute_result"
    }
   ],
   "source": [
    "# check about sports unique values \n",
    "df.Sport.unique()"
   ]
  },
  {
   "cell_type": "code",
   "execution_count": 7,
   "metadata": {},
   "outputs": [
    {
     "data": {
      "text/plain": [
       "array([2021, 2020, 2019, 2018, 2017, 2016, 2015, 2014, 2013, 2012, 2011,\n",
       "       2010, 2009, 2008, 2007, 2006, 2005, 2004, 2003, 2002, 2000, 1999,\n",
       "       1998, 1997, 1996, 1995, 1994, 1993, 1992, 1991, 1990], dtype=int64)"
      ]
     },
     "execution_count": 7,
     "metadata": {},
     "output_type": "execute_result"
    }
   ],
   "source": [
    "# check about year unique values \n",
    "df.Year.unique()"
   ]
  },
  {
   "cell_type": "markdown",
   "metadata": {},
   "source": [
    "<a id='eda'></a>\n",
    "## Exploratory Data Analysis\n",
    "\n",
    "\n",
    "\n",
    "### Research Question 1 (Which Year has the highest Earning value )"
   ]
  },
  {
   "cell_type": "code",
   "execution_count": 8,
   "metadata": {},
   "outputs": [
    {
     "data": {
      "text/plain": [
       "Year\n",
       "2019    3998.9\n",
       "2018    3814.9\n",
       "2020    3622.3\n",
       "2015    3218.7\n",
       "2016    3152.4\n",
       "2017    3109.4\n",
       "2021    2757.0\n",
       "2014    2751.6\n",
       "2013    2623.4\n",
       "2012    2597.6\n",
       "2010    1574.1\n",
       "2011    1408.6\n",
       "2004    1130.0\n",
       "2007     812.7\n",
       "2008     747.5\n",
       "2005     702.4\n",
       "1997     689.9\n",
       "2009     631.0\n",
       "1998     629.9\n",
       "2006     626.0\n",
       "2003     616.0\n",
       "2000     570.6\n",
       "2002     568.5\n",
       "1999     566.0\n",
       "1996     555.3\n",
       "1995     489.5\n",
       "1993     415.9\n",
       "1994     354.3\n",
       "1991     353.2\n",
       "1992     345.2\n",
       "1990     229.2\n",
       "Name: Earnings, dtype: float64"
      ]
     },
     "execution_count": 8,
     "metadata": {},
     "output_type": "execute_result"
    }
   ],
   "source": [
    "# group Earnings by Year\n",
    "df.groupby('Year')['Earnings'].sum().sort_values(ascending=False)"
   ]
  },
  {
   "cell_type": "code",
   "execution_count": 9,
   "metadata": {},
   "outputs": [
    {
     "data": {
      "image/png": "[encoded data removed]",
      "text/plain": [
       "<Figure size 864x432 with 1 Axes>"
      ]
     },
     "metadata": {
      "needs_background": "light"
     },
     "output_type": "display_data"
    }
   ],
   "source": [
    "# visualize Years according to Earning value\n",
    "df.groupby('Year')['Earnings'].sum().plot(kind='bar', figsize=(12,6), ylabel='Earning (M $)', title='Total athletes Earning values for each Year');"
   ]
  },
  {
   "cell_type": "markdown",
   "metadata": {},
   "source": [
    "The Year has highest total athletes earning value is:\n",
    "- 2019 (3998.9) then 2018 (3814.9) and 2020 (3622.3)"
   ]
  },
  {
   "cell_type": "markdown",
   "metadata": {},
   "source": [
    "### Research Question 2  (Which Sport has the highest Earning value)"
   ]
  },
  {
   "cell_type": "code",
   "execution_count": 10,
   "metadata": {},
   "outputs": [
    {
     "data": {
      "text/plain": [
       "Sport\n",
       "Basketball            11544.0\n",
       "Football               7209.9\n",
       "Baseball               5818.1\n",
       "Soccer                 5402.8\n",
       "Golf                   3917.3\n",
       "Boxing                 3492.0\n",
       "Tennis                 3477.6\n",
       "Racing                 3148.6\n",
       "Auto Racing             465.4\n",
       "Mixed Martial Arts      374.0\n",
       "Cricket                 256.6\n",
       "Track                   186.4\n",
       "Hockey                  166.9\n",
       "Cycling                  76.7\n",
       "MMA                      56.0\n",
       "Football/Baseball        38.9\n",
       "Basketbal                30.8\n",
       "Name: Earnings, dtype: float64"
      ]
     },
     "execution_count": 10,
     "metadata": {},
     "output_type": "execute_result"
    }
   ],
   "source": [
    "# group Earnings by Sport \n",
    "df.groupby('Sport')['Earnings'].sum().sort_values(ascending=False)"
   ]
  },
  {
   "cell_type": "code",
   "execution_count": 11,
   "metadata": {},
   "outputs": [
    {
     "data": {
      "image/png": "[encoded data removed]",
      "text/plain": [
       "<Figure size 864x504 with 1 Axes>"
      ]
     },
     "metadata": {
      "needs_background": "light"
     },
     "output_type": "display_data"
    }
   ],
   "source": [
    "# visualize Sport according to Earning value\n",
    "s = df.groupby('Sport')['Earnings'].sum().sort_values()\n",
    "s.plot(kind='barh',figsize=(12,7), title='Total athletes Earning values for each Sport');"
   ]
  },
  {
   "cell_type": "markdown",
   "metadata": {},
   "source": [
    "The sports has the highest earning values is:\n",
    "- Basketball (11544.0) then Football (7209.9) and Baseball (5818.1)"
   ]
  },
  {
   "cell_type": "markdown",
   "metadata": {},
   "source": [
    "### Research Question 3  (Which Athletes has the highest Earning value)"
   ]
  },
  {
   "cell_type": "code",
   "execution_count": 12,
   "metadata": {},
   "outputs": [
    {
     "data": {
      "text/plain": [
       "array(['Conor McGregor', 'Lionel Messi', 'Cristiano Ronaldo',\n",
       "       'Dak Prescott', 'LeBron James', 'Neymar', 'Roger Federer',\n",
       "       'Lewis Hamilton', 'Tom Brady', 'Kevin Durant', 'Stephen Curry',\n",
       "       'Naomi Osaka', 'Tiger Woods', 'Russell Westbrook',\n",
       "       'Patrick Mahomes', 'James Harden', 'David Bakhtiari',\n",
       "       'Ronnie Stanley', 'Giannis Antetokounmpo', 'Dustin Johnson',\n",
       "       'Klay Thompson', 'Joey Bosa', 'Kyrie Irving', 'Jalen Ramsey',\n",
       "       'Trent Williams', 'Myles Garrett', 'Max Verstappen',\n",
       "       'Serena Williams', 'Phil Mickelson', 'Damian Lillard',\n",
       "       'Kylian Mbappe', 'Chris Paul', 'DeAndre Hopkins',\n",
       "       'Leonard Williams', 'Jimmy Butler', 'Marlon Humphrey',\n",
       "       'Mohamed Salah', 'Paul George', 'Chris Jones', 'Anthony Davis',\n",
       "       'Aaron Donald', 'Matt Judon', 'Paul Pogba', 'Deshaun Watson',\n",
       "       'Shaquil Barrett', 'Novak Djokovic', 'JJ Watt', 'Canelo Alvarez',\n",
       "       'Andres Iniesta', 'Robert Lewandowski', 'Kirk Cousins',\n",
       "       'Carson Wentz', 'Tyson Fury', 'Rory McIlroy', 'Jared Goff',\n",
       "       'Anthony Joshua', 'Deontay Wilder', 'Drew Brees', 'Julio Jones',\n",
       "       'Rafael Nadal', 'Sebastian Vettel', 'Grady Jarrett',\n",
       "       'Michael Thomas', 'Kei Nishikori', 'Blake Griffin', 'John Wall',\n",
       "       'Kawhi Leonard', 'Aaron Rodgers', 'Matt Ryan', 'Daniel Ricciardo',\n",
       "       'Mesut Ozil', 'Kyle Lowry', 'Gordon Hayward', 'Jordan Spieth',\n",
       "       'Kemba Walker', 'Oscar', 'Clayton Kershaw', 'Zion Williamson',\n",
       "       'Arik Armstead', 'Joel Embiid', 'Antoine Griezmann',\n",
       "       'Devin Booker', 'Christian McCaffrey', \"D'Angelo Russell\",\n",
       "       'Darius Slay', 'Virat Kohli', 'David De Gea', 'Kevin Love',\n",
       "       'Alexis Sanchez', 'Ryan Tannehill', 'Mike Conley', 'Tobias Harris',\n",
       "       'Gareth Bale', 'Bobby Wagner', 'Amari Cooper', 'DeMar DeRozan',\n",
       "       'Robert Quinn', 'Kristaps Porzingis', 'Al Horford', 'Trae Waynes',\n",
       "       'Dante Fowler', 'Khris Middleton', 'Marcus Mariota', 'CJ McCollum',\n",
       "       'Nick Bosa', 'Shaq Thompson', 'Karl-Anthony Towns',\n",
       "       'Philip Rivers', 'Ezekiel Elliott', 'Paul Millsap',\n",
       "       'Ben Roethlisberger', 'Andrus Peat', 'Andre Drummond', 'DJ Reader',\n",
       "       'Quinnen Williams', 'Bradley Beal', 'Cam Newton',\n",
       "       'Calais Campbell', 'Derek Carr', 'Sergio Ramos', 'Russell Wilson',\n",
       "       'Khalil Mack', 'Mike Trout', 'DeMarcus Lawrence', 'Bryce Harper',\n",
       "       'Brandin Cooks', 'Nick Foles', 'Manny Machado', 'Carmelo Anthony',\n",
       "       'Justin Rose', 'David Price', 'Trey Flowers', 'Justin Verlander',\n",
       "       'Yoenis Cespedes', 'Miguel Cabrera', 'Geno Atkins', 'Earl Thomas',\n",
       "       'Jake Arrieta', 'Justin Houston', 'Albert Pujols', 'Dwight Howard',\n",
       "       'Jrue Holiday', 'Giancarlo Stanton', 'Steven Adams', 'Andrew Luck',\n",
       "       'CJ Mosley', 'Felix Hernandez', 'Odell Beckham Jr',\n",
       "       'Otto Porter Jr', 'Harrison Barnes', 'Nikola Jokic',\n",
       "       'Hassan Whiteside', 'Andrew Wiggins', 'Manny Pacquiao',\n",
       "       'Saquon Barkley', 'JD Martinez', 'Gennady Golovkin', 'Joey Votto',\n",
       "       'Jon Lester', 'Marc Gasol', 'Floyd Mayweather', 'Matthew Stafford',\n",
       "       'Alex Smith', 'Trumaine Johnson', 'Jimmy Garoppolo', 'Von Miller',\n",
       "       'Fernando Alonso', 'Demar DeRozan', 'Dwyane Wade', 'Usain Bolt',\n",
       "       'Wayne Rooney', 'Luis Suarez', 'Chris Bosh', 'Justin Thomas',\n",
       "       'Eli Manning', 'Buster Posey', 'Davante Adams', 'Stephon Tuitt',\n",
       "       'Sam Bradford', 'Zack Greinke', 'Chandler Parsons',\n",
       "       'DeAndre Jordan', 'Sergio Aguero', 'Joe Mauer', 'JJ Redick',\n",
       "       'Jarvis Landry', 'Nate Solder', 'LaMarcus Aldridge',\n",
       "       'Robinson Cano', 'Brook Lopez', 'Masahiro Tanaka', 'Melvin Ingram',\n",
       "       'Nicolas Batum', 'Derrick Rose', 'Fletcher Cox',\n",
       "       'Zlatan Ibrahimovic', 'Antonio Brown', 'Eric Berry',\n",
       "       'Stephon Gilmore', 'Andy Murray', 'Ryan Howard', 'Dirk Nowitzki',\n",
       "       'Jason Pierre-Paul', 'CC Sabathia', 'David DeCastro',\n",
       "       'Prince Fielder', 'Josh Hamilton', 'Matt Kalil', 'Chandler Jones',\n",
       "       'Cole Hamels', 'Muhammad Wilkerson', 'Nick Perry',\n",
       "       'Hanley Ramirez', 'Justin Upton', 'Jose Reyes', 'James Rodriguez',\n",
       "       'Jimmie Johnson', 'Adrian Gonzalez', 'Jacoby Ellsbury',\n",
       "       'Matt Kemp', 'Wladimir Klitschko', 'Dale Earnhardt Jr',\n",
       "       'Kobe Bryant', 'Joe Flacco', 'Marcell Dareus', 'Peyton Manning',\n",
       "       'AJ Green', 'Cliff Lee', 'Olivier Vernon', 'Luke Kuechly',\n",
       "       'Cameron Jordan', 'Jason Day', 'Dez Bryant', 'Demaryius Thomas',\n",
       "       'Mark Teixeira', 'Joe Johnson', 'Anthony Castonzo',\n",
       "       'Troy Tulowitzki', 'Bastian Schweinsteiger', 'Angel Di Maria',\n",
       "       'Eden Hazard', 'David Ortiz', 'Maria Sharapova', 'Cameron Heyward',\n",
       "       'Jayson Werth', 'Alex Rodriguez', 'Nico Rosberg', 'Carl Crawford',\n",
       "       'Ndamukong Suh', 'Mahendra Singh Dhoni', 'Carson Palmer',\n",
       "       'Kimi Raikkonen', 'Gerald McCoy', 'Radamel Falcao',\n",
       "       'Amare Stoudemire', 'Andy Dalton', 'LeSean McCoy', 'Tony Romo',\n",
       "       'Tyron Smith', 'Deron Williams', 'Matt Cain', 'David Wright',\n",
       "       'Cesc Fabregas', 'Yaya Toure', 'Rudy Gay', 'Adam Wainwright',\n",
       "       'Frank Lampard', 'Devin McCourty', 'Billy Horschel', 'Jeremy Lin',\n",
       "       'Maurkice Pouncey', 'Max Scherzer', 'Derek Jeter',\n",
       "       'Darrelle Revis', 'Li Na', 'Johan Santana', 'Pau Gasol',\n",
       "       'Joe Haden', 'Fernando Torres', 'Henrik Stenson', 'Vernon Wells',\n",
       "       'Julius Peppers', 'Jason Peters', 'Tim Lincecum', 'Barry Zito',\n",
       "       'Robin van Persie', 'Carlos Dunlap', 'Zach Randolph',\n",
       "       'Steven Gerrard', 'Jeff Gordon', 'Larry Fitzgerald',\n",
       "       'Branden Albert', 'Franck Ribery', 'Alfonso Soriano',\n",
       "       'Jairus Byrd', 'Adam Scott', 'Terrell Suggs', 'Brandon Marshall',\n",
       "       'Matt Holliday', 'David Beckham', 'Amare Stoudamire',\n",
       "       'Calvin Johnson', 'Ray Rice', 'Dwayne Bowe', 'Vincent Jackson',\n",
       "       'Matt Schaub', 'Sachin Tendulkar', 'Valentino Rossi',\n",
       "       'Clay Matthews', 'Gilbert Arenas', 'Didier Drogba', 'Roy Halladay',\n",
       "       'Ichiro Suzuki', 'Ernie Els', 'Kaka', 'Brandt Snedeker',\n",
       "       'Paul Pierce', 'Tony Stewart', 'Carl Nicks', 'Carlos Tevez',\n",
       "       'Michael Young', 'Andrew Bynum', 'AJ Burnett', 'Brandon Roy',\n",
       "       'Samuel Etoo', 'Haloti Ngata', 'Charles Johnson', 'Mario Williams',\n",
       "       'Michael Schumacher', 'LaMarr Woodley', 'Mark Sanchez',\n",
       "       'Luke Donald', 'Michael Vick', 'Logan Mankins', 'Richard Seymour',\n",
       "       'Adrian Peterson', 'Jon Beason', 'Kevin Garnett',\n",
       "       'DBrickashaw Ferguson', 'DeAngelo Williams', 'Joe Thomas',\n",
       "       'Ryan Kalil', 'Tim Duncan', 'Miguel Cotto', 'Robert Mathis',\n",
       "       'Carlos Lee', 'Lawrence Timmons', 'Torii Hunter',\n",
       "       'Jonathan Joseph', 'Darnell Dockett', 'Rashard Lewis',\n",
       "       'John Terry', 'Carlos Zambrano', 'Russell Okung',\n",
       "       'Rolando McClain', 'Jake Peavy', 'Yao Ming', 'Ronaldinho',\n",
       "       'Jim Furyk', 'Vince Carter', 'Todd Helton', 'Jahri Evans',\n",
       "       'Michael Redd', 'Lebron James', 'Shaquille ONeal', 'Tracy McGrady',\n",
       "       'Albert Haynesworth', 'DeMarcus Ware', 'Jermaine ONeal',\n",
       "       'Thierry Henry', 'Jake Delhomme', 'Lance Armstrong',\n",
       "       'Michael Jordan', 'Venus Williams', 'Ana Ivanovic',\n",
       "       'Danica Patrick', 'Justine Henin', 'Annika Sorenstam',\n",
       "       'Lorena Ochoa', 'Oscar De La Hoya', 'Vijay Singh', 'Leonard Davis',\n",
       "       'Arnold Palmer', 'Reggie Bush', 'Allen Iverson', 'Muhammad Ali',\n",
       "       'Michelle Wie', 'Andre Agassi', 'Manny Ramirez', 'Walter Jones',\n",
       "       'Ronaldo', 'Matt Hasselbeck', 'Lindsay Davenport', 'Grant Hill',\n",
       "       'Barry Bonds', 'Champ Bailey', 'Carlos Delgado', 'Randy Johnson',\n",
       "       'Mike Piazza', 'Jevon Kearse', 'Sammy Sosa', 'Pedro Martinez',\n",
       "       'Jason Giambi', 'Lavar Arrington', 'Brian Urlacher', 'Greg Norman',\n",
       "       'Ralf Schumacher', 'Jason Kidd', 'Zinedine Zidane',\n",
       "       'Grant Wistrom', 'Shawn Green', 'Charles Rogers',\n",
       "       'Rasheed Wallace', 'Kevin Brown', 'Anfernee Hardaway',\n",
       "       'Andre Miller', 'Jacques Villeneuve', 'Alonzo Mourning',\n",
       "       'Scottie Pippen', 'Juwan Howard', 'Karl Malone', 'Anna Kournikova',\n",
       "       'Martina Hingis', 'Lennox Lewis', 'Mike Tyson', 'Ken Griffey Jr',\n",
       "       'Jennifer Capriati', 'Dale Earnhardt', 'George Foreman',\n",
       "       'Evander Holyfield', 'Troy Aikman', 'Patrick Ewing',\n",
       "       'Edgerrin James', 'Monica Seles', 'Sergei Fedorov',\n",
       "       'Gary Sheffield', 'Dennis Rodman', 'Wayne Gretzky',\n",
       "       'Cal Ripken Jr', 'Brett Favre', 'David Robinson', 'Gary Payton',\n",
       "       'Shawn Kemp', 'Roy Jones Jr', 'Mo Vaughn', 'Pete Sampras',\n",
       "       'Deion Sanders', 'Hakeem Olajuwon', 'Jack Nicklaus',\n",
       "       'Albert Belle', 'Michael Chang', 'Mark McGwire', 'Joe Sakic',\n",
       "       'Horace Grant', 'Naseem Hamed', 'Greg Maddux', 'Reggie Miller',\n",
       "       'Barry Sanders', 'Chris Gratton', 'Michael Moorer', 'Frank Thomas',\n",
       "       'Emmitt Smith', 'Dan Marino', 'Riddick Bowe', 'Clyde Drexler',\n",
       "       'Julio Cesar Chavez', 'John Elway', 'Neil ODonnell', 'Steve Young',\n",
       "       'Mario Lemieux', 'Damon Hill', 'Charles Barkley', 'Cecil Fielder',\n",
       "       'Gerhard Berger', 'Drew Bledsoe', 'Ki-Jana Carter', 'Jean Alesi',\n",
       "       'Boris Becker', 'Steffi Graf', 'Pernell Whitaker', 'Mark Messier',\n",
       "       'Joe Carter', 'Jerry Rice', 'Michael Irvin', 'Nigel Mansell',\n",
       "       'Joe Montana', 'Emerson Fittipaldi', 'Stefan Edberg',\n",
       "       'Scott Mitchell', 'Heath Shuler', 'Marshall Faulk', 'James Toney',\n",
       "       'Dan Wilkinson', 'Mario Andretti', 'Trent Dilfer',\n",
       "       'Roberto Baggio', 'Will Clark', 'Gabriela Sabatini', 'Al Unser Jr',\n",
       "       'Ayrton Senna', 'Alain Prost', 'Jim Courier', 'Reggie White',\n",
       "       'Ryne Sandberg', 'Bobby Bonilla', 'Riccardo Patrese', 'Nolan Ryan',\n",
       "       'Dwight Gooden', 'Larry Holmes', 'Fred Couples', 'Magic Johnson',\n",
       "       'Nick Faldo', 'Danny Tartabull', 'Roger Clemens', 'Ruben Sierra',\n",
       "       'Ivan Lendl', 'Frank Viola', 'Lee Trevino', 'Doug Drabek',\n",
       "       'Razor Ruddock', 'Larry Bird', 'Raghib Ismail', 'John Williams',\n",
       "       'Bo Jackson', 'Darryl Strawberry', 'Greg LeMond', 'Nelson Piquet',\n",
       "       'Kevin Mitchell', 'Curtis Strange', 'Buster Douglas',\n",
       "       'Sugar Ray Leonard', 'Jose Canseco', 'Diego Maradona',\n",
       "       'Don Mattingly', 'Robin Yount'], dtype=object)"
      ]
     },
     "execution_count": 12,
     "metadata": {},
     "output_type": "execute_result"
    }
   ],
   "source": [
    "# check about Name of Athletes unique values \n",
    "arr = df.Name.unique()\n",
    "arr"
   ]
  },
  {
   "cell_type": "code",
   "execution_count": 13,
   "metadata": {},
   "outputs": [
    {
     "data": {
      "text/html": [
       "<div>\n",
       "<style scoped>\n",
       "    .dataframe tbody tr th:only-of-type {\n",
       "        vertical-align: middle;\n",
       "    }\n",
       "\n",
       "    .dataframe tbody tr th {\n",
       "        vertical-align: top;\n",
       "    }\n",
       "\n",
       "    .dataframe thead th {\n",
       "        text-align: right;\n",
       "    }\n",
       "</style>\n",
       "<table border=\"1\" class=\"dataframe\">\n",
       "  <thead>\n",
       "    <tr style=\"text-align: right;\">\n",
       "      <th></th>\n",
       "      <th>Name</th>\n",
       "      <th>Earnings</th>\n",
       "    </tr>\n",
       "  </thead>\n",
       "  <tbody>\n",
       "    <tr>\n",
       "      <th>12</th>\n",
       "      <td>Tiger Woods</td>\n",
       "      <td>1632.2</td>\n",
       "    </tr>\n",
       "    <tr>\n",
       "      <th>160</th>\n",
       "      <td>Floyd Mayweather</td>\n",
       "      <td>944.5</td>\n",
       "    </tr>\n",
       "    <tr>\n",
       "      <th>2</th>\n",
       "      <td>Cristiano Ronaldo</td>\n",
       "      <td>942.9</td>\n",
       "    </tr>\n",
       "    <tr>\n",
       "      <th>6</th>\n",
       "      <td>Roger Federer</td>\n",
       "      <td>933.1</td>\n",
       "    </tr>\n",
       "    <tr>\n",
       "      <th>1</th>\n",
       "      <td>Lionel Messi</td>\n",
       "      <td>911.5</td>\n",
       "    </tr>\n",
       "    <tr>\n",
       "      <th>4</th>\n",
       "      <td>LeBron James</td>\n",
       "      <td>820.5</td>\n",
       "    </tr>\n",
       "    <tr>\n",
       "      <th>28</th>\n",
       "      <td>Phil Mickelson</td>\n",
       "      <td>781.7</td>\n",
       "    </tr>\n",
       "    <tr>\n",
       "      <th>372</th>\n",
       "      <td>Michael Jordan</td>\n",
       "      <td>739.2</td>\n",
       "    </tr>\n",
       "    <tr>\n",
       "      <th>328</th>\n",
       "      <td>Michael Schumacher</td>\n",
       "      <td>703.0</td>\n",
       "    </tr>\n",
       "    <tr>\n",
       "      <th>222</th>\n",
       "      <td>Kobe Bryant</td>\n",
       "      <td>621.0</td>\n",
       "    </tr>\n",
       "  </tbody>\n",
       "</table>\n",
       "</div>"
      ],
      "text/plain": [
       "                   Name  Earnings\n",
       "12          Tiger Woods    1632.2\n",
       "160    Floyd Mayweather     944.5\n",
       "2     Cristiano Ronaldo     942.9\n",
       "6         Roger Federer     933.1\n",
       "1          Lionel Messi     911.5\n",
       "4          LeBron James     820.5\n",
       "28       Phil Mickelson     781.7\n",
       "372      Michael Jordan     739.2\n",
       "328  Michael Schumacher     703.0\n",
       "222         Kobe Bryant     621.0"
      ]
     },
     "execution_count": 13,
     "metadata": {},
     "output_type": "execute_result"
    }
   ],
   "source": [
    "# aggregate for each Athletes total earning values across years\n",
    "dic = {}\n",
    "for player in arr:\n",
    "    dic[player] = df[df['Name'] == player]['Earnings'].sum()\n",
    "    \n",
    "    \n",
    "data_items = dic.items()\n",
    "data_list = list(data_items)\n",
    "df_res = pd.DataFrame(data_list, columns=['Name','Earnings'])\n",
    "\n",
    "df_res.sort_values(by='Earnings', ascending=False, inplace=True)\n",
    "df_res.head(10)"
   ]
  },
  {
   "cell_type": "code",
   "execution_count": 14,
   "metadata": {},
   "outputs": [
    {
     "data": {
      "text/plain": [
       "<BarContainer object of 10 artists>"
      ]
     },
     "execution_count": 14,
     "metadata": {},
     "output_type": "execute_result"
    },
    {
     "data": {
      "image/png": "[encoded data removed]",
      "text/plain": [
       "<Figure size 720x360 with 1 Axes>"
      ]
     },
     "metadata": {
      "needs_background": "light"
     },
     "output_type": "display_data"
    }
   ],
   "source": [
    "# visualize the most 10 Athletes have heighest Earning value\n",
    "plt.subplots(figsize=(10,5))\n",
    "plt.gca().invert_yaxis()\n",
    "plt.ylabel('Athletes')\n",
    "plt.title('Athletes with the highest Earning values')\n",
    "plt.barh(df_res.Name[:10],df_res.Earnings[:10])"
   ]
  },
  {
   "cell_type": "markdown",
   "metadata": {},
   "source": [
    "The Athletes wuth highest Earning value:\n",
    "- Tiger Woods\t1632.2\n",
    "- Floyd Mayweather\t944.5\n",
    "- Cristiano Ronaldo\t942.9"
   ]
  },
  {
   "cell_type": "markdown",
   "metadata": {},
   "source": [
    "<a id='conclusions'></a>\n",
    "## Conclusions\n",
    "\n",
    "After Exploring the Dataset: \n",
    "- The Year has highest total athletes earning value is:\n",
    " - 2019 (3998.9) then 2018 (3814.9) and 2020 (3622.3)\n",
    "- The sports has the highest earning values is:\n",
    " - Basketball (11544.0) then Football (7209.9) and Baseball (5818.1)\n",
    "- The Athletes wuth highest Earning value:\n",
    " - Tiger Woods 1632.2\n",
    " - Floyd Mayweather 944.5\n",
    " - Cristiano Ronaldo 942.9"
   ]
  },
  {
   "cell_type": "code",
   "execution_count": null,
   "metadata": {},
   "outputs": [],
   "source": []
  }
 ],
 "metadata": {
  "kernelspec": {
   "display_name": "Python 3",
   "language": "python",
   "name": "python3"
  },
  "language_info": {
   "codemirror_mode": {
    "name": "ipython",
    "version": 3
   },
   "file_extension": ".py",
   "mimetype": "text/x-python",
   "name": "python",
   "nbconvert_exporter": "python",
   "pygments_lexer": "ipython3",
   "version": "3.8.8"
  }
 },
 "nbformat": 4,
 "nbformat_minor": 2
}
